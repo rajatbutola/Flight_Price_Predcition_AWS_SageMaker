{
 "cells": [
  {
   "cell_type": "markdown",
   "id": "5ddd0844-32fe-4414-9cec-83fe4bb2a2f6",
   "metadata": {},
   "source": [
    "# 1. Import Necessary Libraries"
   ]
  },
  {
   "cell_type": "code",
   "execution_count": 5,
   "id": "2bd7591b-6228-4a32-899a-a548a5b87acb",
   "metadata": {},
   "outputs": [],
   "source": [
    "import numpy as np\n",
    "\n",
    "import pandas as pd\n",
    "\n",
    "import seaborn as sns\n",
    "\n",
    "import matplotlib.pyplot as plt"
   ]
  },
  {
   "cell_type": "markdown",
   "id": "701aa974-c41e-4a36-a590-e73c2857b8b8",
   "metadata": {},
   "source": [
    "# 2. Loading the Training Data"
   ]
  },
  {
   "cell_type": "code",
   "execution_count": 7,
   "id": "ea9fcbcc-d932-44de-b0a3-a1ede2d0ee6d",
   "metadata": {},
   "outputs": [],
   "source": [
    "file_path = r\"/Users/karida/Desktop/AWS_SageMaker_Project/Data/train.csv\"\n",
    "\n",
    "train = pd.read_csv(file_path)"
   ]
  },
  {
   "cell_type": "code",
   "execution_count": 8,
   "id": "75cc5614-b93f-411e-a69c-323dfd2deb4c",
   "metadata": {},
   "outputs": [
    {
     "data": {
      "text/plain": [
       "airline             object\n",
       "date_of_journey     object\n",
       "source              object\n",
       "destination         object\n",
       "dep_time            object\n",
       "arrival_time        object\n",
       "duration             int64\n",
       "total_stops        float64\n",
       "additional_info     object\n",
       "price                int64\n",
       "dtype: object"
      ]
     },
     "execution_count": 8,
     "metadata": {},
     "output_type": "execute_result"
    }
   ],
   "source": [
    "train.dtypes"
   ]
  },
  {
   "cell_type": "code",
   "execution_count": 16,
   "id": "42ac5d72-105f-458d-a0a3-84f405a46e86",
   "metadata": {},
   "outputs": [
    {
     "data": {
      "text/plain": [
       "airline                    object\n",
       "date_of_journey    datetime64[ns]\n",
       "source                     object\n",
       "destination                object\n",
       "dep_time           datetime64[ns]\n",
       "arrival_time       datetime64[ns]\n",
       "duration                    int64\n",
       "total_stops               float64\n",
       "additional_info            object\n",
       "price                       int64\n",
       "dtype: object"
      ]
     },
     "execution_count": 16,
     "metadata": {},
     "output_type": "execute_result"
    }
   ],
   "source": [
    "train = train.assign(**{\n",
    "    col: pd.to_datetime(train.loc[:, col], format = \"mixed\")\n",
    "    for col in [\"date_of_journey\", \"dep_time\", \"arrival_time\"]\n",
    "})\n",
    "train.dtypes"
   ]
  },
  {
   "cell_type": "markdown",
   "id": "12db6033-cb43-4d0c-b0d2-21337b996059",
   "metadata": {},
   "source": [
    "# 3. High-Level Analysis of Data"
   ]
  },
  {
   "cell_type": "code",
   "execution_count": 17,
   "id": "ea3645f0-3d69-4ea7-8df2-0dcc5546236e",
   "metadata": {},
   "outputs": [
    {
     "name": "stdout",
     "output_type": "stream",
     "text": [
      "<class 'pandas.core.frame.DataFrame'>\n",
      "RangeIndex: 6695 entries, 0 to 6694\n",
      "Data columns (total 10 columns):\n",
      " #   Column           Non-Null Count  Dtype         \n",
      "---  ------           --------------  -----         \n",
      " 0   airline          6695 non-null   object        \n",
      " 1   date_of_journey  6695 non-null   datetime64[ns]\n",
      " 2   source           6695 non-null   object        \n",
      " 3   destination      6695 non-null   object        \n",
      " 4   dep_time         6695 non-null   datetime64[ns]\n",
      " 5   arrival_time     6695 non-null   datetime64[ns]\n",
      " 6   duration         6695 non-null   int64         \n",
      " 7   total_stops      6694 non-null   float64       \n",
      " 8   additional_info  6695 non-null   object        \n",
      " 9   price            6695 non-null   int64         \n",
      "dtypes: datetime64[ns](3), float64(1), int64(2), object(4)\n",
      "memory usage: 523.2+ KB\n"
     ]
    }
   ],
   "source": [
    "train.info()"
   ]
  },
  {
   "cell_type": "code",
   "execution_count": 23,
   "id": "d2da59e6-4479-4250-8538-90015a11d50b",
   "metadata": {},
   "outputs": [
    {
     "data": {
      "text/html": [
       "<div>\n",
       "<style scoped>\n",
       "    .dataframe tbody tr th:only-of-type {\n",
       "        vertical-align: middle;\n",
       "    }\n",
       "\n",
       "    .dataframe tbody tr th {\n",
       "        vertical-align: top;\n",
       "    }\n",
       "\n",
       "    .dataframe thead th {\n",
       "        text-align: right;\n",
       "    }\n",
       "</style>\n",
       "<table border=\"1\" class=\"dataframe\">\n",
       "  <thead>\n",
       "    <tr style=\"text-align: right;\">\n",
       "      <th></th>\n",
       "      <th>duration</th>\n",
       "      <th>total_stops</th>\n",
       "      <th>price</th>\n",
       "    </tr>\n",
       "  </thead>\n",
       "  <tbody>\n",
       "    <tr>\n",
       "      <th>count</th>\n",
       "      <td>6695.000000</td>\n",
       "      <td>6694.000000</td>\n",
       "      <td>6695.000000</td>\n",
       "    </tr>\n",
       "    <tr>\n",
       "      <th>mean</th>\n",
       "      <td>633.489171</td>\n",
       "      <td>0.801464</td>\n",
       "      <td>9030.965646</td>\n",
       "    </tr>\n",
       "    <tr>\n",
       "      <th>std</th>\n",
       "      <td>503.006311</td>\n",
       "      <td>0.659737</td>\n",
       "      <td>4639.522857</td>\n",
       "    </tr>\n",
       "    <tr>\n",
       "      <th>min</th>\n",
       "      <td>75.000000</td>\n",
       "      <td>0.000000</td>\n",
       "      <td>1759.000000</td>\n",
       "    </tr>\n",
       "    <tr>\n",
       "      <th>25%</th>\n",
       "      <td>170.000000</td>\n",
       "      <td>0.000000</td>\n",
       "      <td>5224.000000</td>\n",
       "    </tr>\n",
       "    <tr>\n",
       "      <th>50%</th>\n",
       "      <td>510.000000</td>\n",
       "      <td>1.000000</td>\n",
       "      <td>8283.000000</td>\n",
       "    </tr>\n",
       "    <tr>\n",
       "      <th>75%</th>\n",
       "      <td>922.500000</td>\n",
       "      <td>1.000000</td>\n",
       "      <td>12373.000000</td>\n",
       "    </tr>\n",
       "    <tr>\n",
       "      <th>max</th>\n",
       "      <td>2860.000000</td>\n",
       "      <td>3.000000</td>\n",
       "      <td>62427.000000</td>\n",
       "    </tr>\n",
       "  </tbody>\n",
       "</table>\n",
       "</div>"
      ],
      "text/plain": [
       "          duration  total_stops         price\n",
       "count  6695.000000  6694.000000   6695.000000\n",
       "mean    633.489171     0.801464   9030.965646\n",
       "std     503.006311     0.659737   4639.522857\n",
       "min      75.000000     0.000000   1759.000000\n",
       "25%     170.000000     0.000000   5224.000000\n",
       "50%     510.000000     1.000000   8283.000000\n",
       "75%     922.500000     1.000000  12373.000000\n",
       "max    2860.000000     3.000000  62427.000000"
      ]
     },
     "execution_count": 23,
     "metadata": {},
     "output_type": "execute_result"
    }
   ],
   "source": [
    "train.describe(include = \"number\")"
   ]
  },
  {
   "cell_type": "code",
   "execution_count": 26,
   "id": "11b3d0b3-7cbe-4024-9a4f-dc4547c7d08f",
   "metadata": {},
   "outputs": [
    {
     "data": {
      "text/html": [
       "<div>\n",
       "<style scoped>\n",
       "    .dataframe tbody tr th:only-of-type {\n",
       "        vertical-align: middle;\n",
       "    }\n",
       "\n",
       "    .dataframe tbody tr th {\n",
       "        vertical-align: top;\n",
       "    }\n",
       "\n",
       "    .dataframe thead th {\n",
       "        text-align: right;\n",
       "    }\n",
       "</style>\n",
       "<table border=\"1\" class=\"dataframe\">\n",
       "  <thead>\n",
       "    <tr style=\"text-align: right;\">\n",
       "      <th></th>\n",
       "      <th>airline</th>\n",
       "      <th>source</th>\n",
       "      <th>destination</th>\n",
       "      <th>total_stops</th>\n",
       "      <th>additional_info</th>\n",
       "    </tr>\n",
       "  </thead>\n",
       "  <tbody>\n",
       "    <tr>\n",
       "      <th>count</th>\n",
       "      <td>6695</td>\n",
       "      <td>6695</td>\n",
       "      <td>6695</td>\n",
       "      <td>6694.0</td>\n",
       "      <td>6695</td>\n",
       "    </tr>\n",
       "    <tr>\n",
       "      <th>unique</th>\n",
       "      <td>9</td>\n",
       "      <td>5</td>\n",
       "      <td>6</td>\n",
       "      <td>4.0</td>\n",
       "      <td>8</td>\n",
       "    </tr>\n",
       "    <tr>\n",
       "      <th>top</th>\n",
       "      <td>Jet Airways</td>\n",
       "      <td>Delhi</td>\n",
       "      <td>Cochin</td>\n",
       "      <td>1.0</td>\n",
       "      <td>No_Info</td>\n",
       "    </tr>\n",
       "    <tr>\n",
       "      <th>freq</th>\n",
       "      <td>2391</td>\n",
       "      <td>2730</td>\n",
       "      <td>2730</td>\n",
       "      <td>3580.0</td>\n",
       "      <td>5248</td>\n",
       "    </tr>\n",
       "  </tbody>\n",
       "</table>\n",
       "</div>"
      ],
      "text/plain": [
       "            airline source destination  total_stops additional_info\n",
       "count          6695   6695        6695       6694.0            6695\n",
       "unique            9      5           6          4.0               8\n",
       "top     Jet Airways  Delhi      Cochin          1.0         No_Info\n",
       "freq           2391   2730        2730       3580.0            5248"
      ]
     },
     "execution_count": 26,
     "metadata": {},
     "output_type": "execute_result"
    }
   ],
   "source": [
    "(\n",
    "    train\n",
    "    .assign(total_stops=train[\"total_stops\"].astype(object))\n",
    "    .describe(include = \"O\")\n",
    ")"
   ]
  },
  {
   "cell_type": "markdown",
   "id": "279e3050-bc82-42ee-8918-330d15253e48",
   "metadata": {},
   "source": [
    "# 4. High-Level Missing Values Analysis"
   ]
  },
  {
   "cell_type": "code",
   "execution_count": 41,
   "id": "a4b1e3d9-67fc-4c09-a82b-0489b003e7c8",
   "metadata": {},
   "outputs": [],
   "source": [
    "def missing_values(data):\n",
    "    miss_cols = [col for col in data.columns if data[col].isna().any()]\n",
    "    miss_counts = [data[col].isna().isna().sum() for col in miss_cols]\n",
    "    miss_percentage = [(data[col].isna().mean() * 100) for col in miss_cols]\n",
    "\n",
    "    return (\n",
    "        pd\n",
    "        .DataFrame(data={\n",
    "            'variable': miss_cols,\n",
    "            'count': miss_counts,\n",
    "            'percentage': miss_percentage\n",
    "        })\n",
    "        .sort_values(by='count', ascending=False)\n",
    "        .set_index('variable')\n",
    "    )"
   ]
  },
  {
   "cell_type": "code",
   "execution_count": 42,
   "id": "8ac62aba-a6ec-431d-81ff-1a6a571c207d",
   "metadata": {},
   "outputs": [
    {
     "data": {
      "text/html": [
       "<div>\n",
       "<style scoped>\n",
       "    .dataframe tbody tr th:only-of-type {\n",
       "        vertical-align: middle;\n",
       "    }\n",
       "\n",
       "    .dataframe tbody tr th {\n",
       "        vertical-align: top;\n",
       "    }\n",
       "\n",
       "    .dataframe thead th {\n",
       "        text-align: right;\n",
       "    }\n",
       "</style>\n",
       "<table border=\"1\" class=\"dataframe\">\n",
       "  <thead>\n",
       "    <tr style=\"text-align: right;\">\n",
       "      <th></th>\n",
       "      <th>count</th>\n",
       "      <th>percentage</th>\n",
       "    </tr>\n",
       "    <tr>\n",
       "      <th>variable</th>\n",
       "      <th></th>\n",
       "      <th></th>\n",
       "    </tr>\n",
       "  </thead>\n",
       "  <tbody>\n",
       "    <tr>\n",
       "      <th>total_stops</th>\n",
       "      <td>0</td>\n",
       "      <td>0.014937</td>\n",
       "    </tr>\n",
       "  </tbody>\n",
       "</table>\n",
       "</div>"
      ],
      "text/plain": [
       "             count  percentage\n",
       "variable                      \n",
       "total_stops      0    0.014937"
      ]
     },
     "execution_count": 42,
     "metadata": {},
     "output_type": "execute_result"
    }
   ],
   "source": [
    "missing_values(train)"
   ]
  },
  {
   "cell_type": "markdown",
   "id": "159b9fc1-643c-45db-9b48-7962e2250844",
   "metadata": {},
   "source": [
    "# 5. High-Level Outlier Analysis"
   ]
  },
  {
   "cell_type": "code",
   "execution_count": null,
   "id": "71d25695-b186-47bb-8379-bf7748192f77",
   "metadata": {},
   "outputs": [],
   "source": []
  }
 ],
 "metadata": {
  "kernelspec": {
   "display_name": "Python 3 (ipykernel)",
   "language": "python",
   "name": "python3"
  },
  "language_info": {
   "codemirror_mode": {
    "name": "ipython",
    "version": 3
   },
   "file_extension": ".py",
   "mimetype": "text/x-python",
   "name": "python",
   "nbconvert_exporter": "python",
   "pygments_lexer": "ipython3",
   "version": "3.8.10"
  }
 },
 "nbformat": 4,
 "nbformat_minor": 5
}
